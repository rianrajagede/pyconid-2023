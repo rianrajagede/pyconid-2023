{
  "cells": [
    {
      "cell_type": "markdown",
      "metadata": {
        "id": "YvWxniTr8x1I"
      },
      "source": [
        "# A Glimpse of PyTorch"
      ]
    },
    {
      "cell_type": "code",
      "execution_count": 1,
      "metadata": {},
      "outputs": [
        {
          "name": "stdout",
          "output_type": "stream",
          "text": [
            "Files already downloaded and verified\n",
            "Files already downloaded and verified\n"
          ]
        }
      ],
      "source": [
        "import torch\n",
        "import torch.nn as nn\n",
        "import torch.nn.functional as F\n",
        "import torch.optim as optim\n",
        "import torchvision\n",
        "import torchvision.transforms as transforms\n",
        "\n",
        "# Load the CIFAR-10 dataset and define data transformations\n",
        "transform = transforms.Compose([transforms.ToTensor(), transforms.Normalize((0.4914, 0.4822, 0.4465), (0.247, 0.243, 0.261))])\n",
        "trainset = torchvision.datasets.CIFAR10(root='./data', train=True, download=True, transform=transform)\n",
        "trainloader = torch.utils.data.DataLoader(trainset, batch_size=32, shuffle=True)\n",
        "testset = torchvision.datasets.CIFAR10(root='./data', train=False, download=True, transform=transform)\n",
        "testloader = torch.utils.data.DataLoader(testset, batch_size=32, shuffle=True)\n"
      ]
    },
    {
      "cell_type": "markdown",
      "metadata": {
        "id": "l3p9HjUAqj7d"
      },
      "source": [
        "### Training Phase"
      ]
    },
    {
      "cell_type": "code",
      "execution_count": 17,
      "metadata": {
        "colab": {
          "base_uri": "https://localhost:8080/"
        },
        "id": "ZV0KIlWX8oeo",
        "outputId": "95fc6444-2e60-4c2e-ee80-7cba84aee1bb"
      },
      "outputs": [
        {
          "name": "stdout",
          "output_type": "stream",
          "text": [
            "Epoch 1, Loss: 1.641421895872227\n",
            "Epoch 2, Loss: 1.2879533700583001\n",
            "Epoch 3, Loss: 1.1750398684753032\n",
            "Epoch 4, Loss: 1.090450172079578\n",
            "Epoch 5, Loss: 1.0183437143810574\n",
            "Training finished!\n"
          ]
        }
      ],
      "source": [
        "# Define a simple CNN model\n",
        "class SimpleCNN(nn.Module):\n",
        "    def __init__(self):\n",
        "        super(SimpleCNN, self).__init__()\n",
        "        self.conv1 = nn.Conv2d(3, 16, 3)\n",
        "        self.pool = nn.MaxPool2d(2, 2)\n",
        "        self.fc1 = nn.Linear(3600, 64)\n",
        "        self.fc2 = nn.Linear(64, 10)\n",
        "\n",
        "    def forward(self, x):\n",
        "        x = self.pool(F.relu(self.conv1(x)))\n",
        "        x = x.view(x.shape[0], -1)\n",
        "        x = F.relu(self.fc1(x))\n",
        "        x = self.fc2(x)\n",
        "        return x\n",
        "\n",
        "# Initialize the model, loss function, and optimizer\n",
        "net = SimpleCNN()\n",
        "net.to(\"cuda\")\n",
        "criterion = nn.CrossEntropyLoss()\n",
        "optimizer = optim.SGD(net.parameters(), lr=0.001, momentum=0.9)\n",
        "\n",
        "# Training the model\n",
        "for epoch in range(5):  # Loop over the dataset multiple times\n",
        "    running_loss = 0.0\n",
        "    for inputs, labels in trainloader:\n",
        "        inputs = inputs.to(\"cuda\")\n",
        "        labels = labels.to(\"cuda\")\n",
        "        outputs = net(inputs)\n",
        "        loss = criterion(outputs, labels)\n",
        "        loss.backward()\n",
        "        optimizer.step()\n",
        "        optimizer.zero_grad()\n",
        "        running_loss += loss.item()\n",
        "\n",
        "    print(f\"Epoch {epoch + 1}, Loss: {running_loss / len(trainloader)}\")\n",
        "\n",
        "print(\"Training finished!\")"
      ]
    },
    {
      "cell_type": "markdown",
      "metadata": {
        "id": "HXIdeT0txapT"
      },
      "source": [
        "### Evaluation Phase"
      ]
    },
    {
      "cell_type": "code",
      "execution_count": 3,
      "metadata": {
        "colab": {
          "base_uri": "https://localhost:8080/"
        },
        "id": "Oy79YuYjuuh_",
        "outputId": "bf1854d6-271c-409a-fd1a-3100b4012781"
      },
      "outputs": [
        {
          "name": "stdout",
          "output_type": "stream",
          "text": [
            "Correctly predict 6082 of 10,000 (Acc: 60.81999999999999%)\n"
          ]
        }
      ],
      "source": [
        "def eval(model, testloader):\n",
        "    # Testing the model\n",
        "    correct = 0\n",
        "    model.eval()\n",
        "    with torch.no_grad():\n",
        "        for inputs, labels in testloader:\n",
        "            inputs = inputs.to(\"cuda\")\n",
        "            labels = labels.to(\"cuda\")\n",
        "            outputs = model(inputs)\n",
        "            correct += sum(torch.argmax(outputs, dim=1)==labels).cpu().item()\n",
        "    return correct\n",
        "\n",
        "correct = eval(net, testloader)\n",
        "print(f\"Correctly predict {correct} of 10,000 (Acc: {correct/10000*100}%)\")"
      ]
    },
    {
      "cell_type": "markdown",
      "metadata": {
        "id": "MwY0U5XVqmHA"
      },
      "source": [
        "### Inference Phase"
      ]
    },
    {
      "cell_type": "code",
      "execution_count": 4,
      "metadata": {
        "colab": {
          "base_uri": "https://localhost:8080/",
          "height": 490
        },
        "id": "cZb4DWW9qoHP",
        "outputId": "f38b20b7-e92a-48a9-9188-f152b14346f3"
      },
      "outputs": [
        {
          "name": "stderr",
          "output_type": "stream",
          "text": [
            "Clipping input data to the valid range for imshow with RGB data ([0..1] for floats or [0..255] for integers).\n"
          ]
        },
        {
          "data": {
            "image/png": "[encoded data removed]",
            "text/plain": [
              "<Figure size 200x200 with 1 Axes>"
            ]
          },
          "metadata": {},
          "output_type": "display_data"
        }
      ],
      "source": [
        "# Inference on a sample image\n",
        "import matplotlib.pyplot as plt\n",
        "import numpy as np\n",
        "\n",
        "def predict(model, image):\n",
        "    # Make predictions\n",
        "    outputs = model(image.to(\"cuda\").unsqueeze(dim=0))\n",
        "    _, predicted = torch.max(outputs, 1)\n",
        "    return predicted.item()\n",
        "\n",
        "# Define class labels for CIFAR-10\n",
        "classes = ('plane', 'car', 'bird', 'cat', 'deer', 'dog', 'frog', 'horse', 'ship', 'truck')\n",
        "\n",
        "image, label = testset[8]\n",
        "\n",
        "predicted = predict(net, image)\n",
        "\n",
        "# Display the image and predicted class\n",
        "imshow = np.transpose(image.numpy(), (1, 2, 0))\n",
        "\n",
        "plt.figure(figsize = (2,2))\n",
        "plt.imshow(imshow)\n",
        "plt.title(\"Label: \"+classes[label]+\"  -  Predicted: \"+str(classes[predicted]))\n",
        "plt.show()"
      ]
    },
    {
      "cell_type": "markdown",
      "metadata": {
        "id": "Y-d8Tu0M810i"
      },
      "source": [
        "# Using A Pre-Trained Model"
      ]
    },
    {
      "cell_type": "code",
      "execution_count": 5,
      "metadata": {
        "id": "yBg_MxdR88lR"
      },
      "outputs": [
        {
          "data": {
            "text/plain": [
              "<All keys matched successfully>"
            ]
          },
          "execution_count": 5,
          "metadata": {},
          "output_type": "execute_result"
        }
      ],
      "source": [
        "from resnet_cifar10 import *\n",
        "\n",
        "net = resnet20()\n",
        "net.to(\"cuda\")\n",
        "\n",
        "# load pretrained model\n",
        "net.load_state_dict(torch.load(\"resnet20-0.pt\"))"
      ]
    },
    {
      "cell_type": "markdown",
      "metadata": {},
      "source": [
        "### Evaluation Phase"
      ]
    },
    {
      "cell_type": "code",
      "execution_count": 6,
      "metadata": {},
      "outputs": [
        {
          "name": "stdout",
          "output_type": "stream",
          "text": [
            "Correctly predict 9172 of 10,000 (Acc: 91.72%)\n"
          ]
        }
      ],
      "source": [
        "# Testing the model\n",
        "correct = eval(net, testloader)\n",
        "print(f\"Correctly predict {correct} of 10,000 (Acc: {correct/10000*100}%)\")"
      ]
    },
    {
      "cell_type": "markdown",
      "metadata": {
        "id": "GxJtA-hW8915"
      },
      "source": [
        "# Introduction to PyTorch Hook"
      ]
    },
    {
      "cell_type": "markdown",
      "metadata": {},
      "source": [
        "### Sample #1:\n",
        "Let's print the input and output size for each layer.\n",
        "\n",
        "Hook works like a \"hook\", you put an additional function to a tensor/module of a model. So, if you run the cell below twice, you will  put two functions in the tensor/module. If you want to reset it, you can reload the model (two cells above) or just keep reading"
      ]
    },
    {
      "cell_type": "code",
      "execution_count": 7,
      "metadata": {
        "id": "PgkVcjGV8_ol"
      },
      "outputs": [
        {
          "name": "stdout",
          "output_type": "stream",
          "text": [
            "=======\n",
            "module:  Conv2d\n",
            "input:  torch.Size([1, 3, 32, 32])  | output:  torch.Size([1, 16, 32, 32])\n",
            "=======\n",
            "module:  BatchNorm2d\n",
            "input:  torch.Size([1, 16, 32, 32])  | output:  torch.Size([1, 16, 32, 32])\n",
            "=======\n",
            "module:  Conv2d\n",
            "input:  torch.Size([1, 16, 32, 32])  | output:  torch.Size([1, 16, 32, 32])\n",
            "=======\n",
            "module:  BatchNorm2d\n",
            "input:  torch.Size([1, 16, 32, 32])  | output:  torch.Size([1, 16, 32, 32])\n",
            "=======\n",
            "module:  Conv2d\n",
            "input:  torch.Size([1, 16, 32, 32])  | output:  torch.Size([1, 16, 32, 32])\n",
            "=======\n",
            "module:  BatchNorm2d\n",
            "input:  torch.Size([1, 16, 32, 32])  | output:  torch.Size([1, 16, 32, 32])\n",
            "=======\n",
            "module:  Sequential\n",
            "input:  torch.Size([1, 16, 32, 32])  | output:  torch.Size([1, 16, 32, 32])\n",
            "=======\n",
            "module:  Conv2d\n",
            "input:  torch.Size([1, 16, 32, 32])  | output:  torch.Size([1, 16, 32, 32])\n",
            "=======\n",
            "module:  BatchNorm2d\n",
            "input:  torch.Size([1, 16, 32, 32])  | output:  torch.Size([1, 16, 32, 32])\n",
            "=======\n",
            "module:  Conv2d\n",
            "input:  torch.Size([1, 16, 32, 32])  | output:  torch.Size([1, 16, 32, 32])\n",
            "=======\n",
            "module:  BatchNorm2d\n",
            "input:  torch.Size([1, 16, 32, 32])  | output:  torch.Size([1, 16, 32, 32])\n",
            "=======\n",
            "module:  Sequential\n",
            "input:  torch.Size([1, 16, 32, 32])  | output:  torch.Size([1, 16, 32, 32])\n",
            "=======\n",
            "module:  Conv2d\n",
            "input:  torch.Size([1, 16, 32, 32])  | output:  torch.Size([1, 16, 32, 32])\n",
            "=======\n",
            "module:  BatchNorm2d\n",
            "input:  torch.Size([1, 16, 32, 32])  | output:  torch.Size([1, 16, 32, 32])\n",
            "=======\n",
            "module:  Conv2d\n",
            "input:  torch.Size([1, 16, 32, 32])  | output:  torch.Size([1, 16, 32, 32])\n",
            "=======\n",
            "module:  BatchNorm2d\n",
            "input:  torch.Size([1, 16, 32, 32])  | output:  torch.Size([1, 16, 32, 32])\n",
            "=======\n",
            "module:  Sequential\n",
            "input:  torch.Size([1, 16, 32, 32])  | output:  torch.Size([1, 16, 32, 32])\n",
            "=======\n",
            "module:  Conv2d\n",
            "input:  torch.Size([1, 16, 32, 32])  | output:  torch.Size([1, 32, 16, 16])\n",
            "=======\n",
            "module:  BatchNorm2d\n",
            "input:  torch.Size([1, 32, 16, 16])  | output:  torch.Size([1, 32, 16, 16])\n",
            "=======\n",
            "module:  Conv2d\n",
            "input:  torch.Size([1, 32, 16, 16])  | output:  torch.Size([1, 32, 16, 16])\n",
            "=======\n",
            "module:  BatchNorm2d\n",
            "input:  torch.Size([1, 32, 16, 16])  | output:  torch.Size([1, 32, 16, 16])\n",
            "=======\n",
            "module:  LambdaLayer\n",
            "input:  torch.Size([1, 16, 32, 32])  | output:  torch.Size([1, 32, 16, 16])\n",
            "=======\n",
            "module:  Conv2d\n",
            "input:  torch.Size([1, 32, 16, 16])  | output:  torch.Size([1, 32, 16, 16])\n",
            "=======\n",
            "module:  BatchNorm2d\n",
            "input:  torch.Size([1, 32, 16, 16])  | output:  torch.Size([1, 32, 16, 16])\n",
            "=======\n",
            "module:  Conv2d\n",
            "input:  torch.Size([1, 32, 16, 16])  | output:  torch.Size([1, 32, 16, 16])\n",
            "=======\n",
            "module:  BatchNorm2d\n",
            "input:  torch.Size([1, 32, 16, 16])  | output:  torch.Size([1, 32, 16, 16])\n",
            "=======\n",
            "module:  Sequential\n",
            "input:  torch.Size([1, 32, 16, 16])  | output:  torch.Size([1, 32, 16, 16])\n",
            "=======\n",
            "module:  Conv2d\n",
            "input:  torch.Size([1, 32, 16, 16])  | output:  torch.Size([1, 32, 16, 16])\n",
            "=======\n",
            "module:  BatchNorm2d\n",
            "input:  torch.Size([1, 32, 16, 16])  | output:  torch.Size([1, 32, 16, 16])\n",
            "=======\n",
            "module:  Conv2d\n",
            "input:  torch.Size([1, 32, 16, 16])  | output:  torch.Size([1, 32, 16, 16])\n",
            "=======\n",
            "module:  BatchNorm2d\n",
            "input:  torch.Size([1, 32, 16, 16])  | output:  torch.Size([1, 32, 16, 16])\n",
            "=======\n",
            "module:  Sequential\n",
            "input:  torch.Size([1, 32, 16, 16])  | output:  torch.Size([1, 32, 16, 16])\n",
            "=======\n",
            "module:  Conv2d\n",
            "input:  torch.Size([1, 32, 16, 16])  | output:  torch.Size([1, 64, 8, 8])\n",
            "=======\n",
            "module:  BatchNorm2d\n",
            "input:  torch.Size([1, 64, 8, 8])  | output:  torch.Size([1, 64, 8, 8])\n",
            "=======\n",
            "module:  Conv2d\n",
            "input:  torch.Size([1, 64, 8, 8])  | output:  torch.Size([1, 64, 8, 8])\n",
            "=======\n",
            "module:  BatchNorm2d\n",
            "input:  torch.Size([1, 64, 8, 8])  | output:  torch.Size([1, 64, 8, 8])\n",
            "=======\n",
            "module:  LambdaLayer\n",
            "input:  torch.Size([1, 32, 16, 16])  | output:  torch.Size([1, 64, 8, 8])\n",
            "=======\n",
            "module:  Conv2d\n",
            "input:  torch.Size([1, 64, 8, 8])  | output:  torch.Size([1, 64, 8, 8])\n",
            "=======\n",
            "module:  BatchNorm2d\n",
            "input:  torch.Size([1, 64, 8, 8])  | output:  torch.Size([1, 64, 8, 8])\n",
            "=======\n",
            "module:  Conv2d\n",
            "input:  torch.Size([1, 64, 8, 8])  | output:  torch.Size([1, 64, 8, 8])\n",
            "=======\n",
            "module:  BatchNorm2d\n",
            "input:  torch.Size([1, 64, 8, 8])  | output:  torch.Size([1, 64, 8, 8])\n",
            "=======\n",
            "module:  Sequential\n",
            "input:  torch.Size([1, 64, 8, 8])  | output:  torch.Size([1, 64, 8, 8])\n",
            "=======\n",
            "module:  Conv2d\n",
            "input:  torch.Size([1, 64, 8, 8])  | output:  torch.Size([1, 64, 8, 8])\n",
            "=======\n",
            "module:  BatchNorm2d\n",
            "input:  torch.Size([1, 64, 8, 8])  | output:  torch.Size([1, 64, 8, 8])\n",
            "=======\n",
            "module:  Conv2d\n",
            "input:  torch.Size([1, 64, 8, 8])  | output:  torch.Size([1, 64, 8, 8])\n",
            "=======\n",
            "module:  BatchNorm2d\n",
            "input:  torch.Size([1, 64, 8, 8])  | output:  torch.Size([1, 64, 8, 8])\n",
            "=======\n",
            "module:  Sequential\n",
            "input:  torch.Size([1, 64, 8, 8])  | output:  torch.Size([1, 64, 8, 8])\n",
            "=======\n",
            "module:  Linear\n",
            "input:  torch.Size([1, 64])  | output:  torch.Size([1, 10])\n"
          ]
        }
      ],
      "source": [
        "def hook(module, inp, out):\n",
        "    with torch.no_grad():\n",
        "        print(\"=======\")\n",
        "        print(\"module: \", module.__class__.__name__)\n",
        "        print(\"input: \", inp[0].shape, \" | output: \", out.shape)\n",
        "\n",
        "for name, module in net.named_modules():\n",
        "    if len(list(module.children()))==0: # if module is leaf (a layer)\n",
        "        module.register_forward_hook(hook) # registering hook!!\n",
        "\n",
        "\n",
        "image, label = testset[8]\n",
        "predicted = predict(net, image)"
      ]
    },
    {
      "cell_type": "markdown",
      "metadata": {},
      "source": [
        "The cell below will iterate all modules and print the registered forward hook. If there is a hook in it, it will print \"hook\".\n",
        "Remember, a module is not the same with a layer. In previous cell, we only register hook to layers"
      ]
    },
    {
      "cell_type": "code",
      "execution_count": 8,
      "metadata": {},
      "outputs": [
        {
          "name": "stdout",
          "output_type": "stream",
          "text": [
            "ResNet  :  []\n",
            "Conv2d  :  ['hook']\n",
            "BatchNorm2d  :  ['hook']\n",
            "Sequential  :  []\n",
            "BasicBlock  :  []\n",
            "Conv2d  :  ['hook']\n",
            "BatchNorm2d  :  ['hook']\n",
            "Conv2d  :  ['hook']\n",
            "BatchNorm2d  :  ['hook']\n",
            "Sequential  :  ['hook']\n",
            "BasicBlock  :  []\n",
            "Conv2d  :  ['hook']\n",
            "BatchNorm2d  :  ['hook']\n",
            "Conv2d  :  ['hook']\n",
            "BatchNorm2d  :  ['hook']\n",
            "Sequential  :  ['hook']\n",
            "BasicBlock  :  []\n",
            "Conv2d  :  ['hook']\n",
            "BatchNorm2d  :  ['hook']\n",
            "Conv2d  :  ['hook']\n",
            "BatchNorm2d  :  ['hook']\n",
            "Sequential  :  ['hook']\n",
            "Sequential  :  []\n",
            "BasicBlock  :  []\n",
            "Conv2d  :  ['hook']\n",
            "BatchNorm2d  :  ['hook']\n",
            "Conv2d  :  ['hook']\n",
            "BatchNorm2d  :  ['hook']\n",
            "LambdaLayer  :  ['hook']\n",
            "BasicBlock  :  []\n",
            "Conv2d  :  ['hook']\n",
            "BatchNorm2d  :  ['hook']\n",
            "Conv2d  :  ['hook']\n",
            "BatchNorm2d  :  ['hook']\n",
            "Sequential  :  ['hook']\n",
            "BasicBlock  :  []\n",
            "Conv2d  :  ['hook']\n",
            "BatchNorm2d  :  ['hook']\n",
            "Conv2d  :  ['hook']\n",
            "BatchNorm2d  :  ['hook']\n",
            "Sequential  :  ['hook']\n",
            "Sequential  :  []\n",
            "BasicBlock  :  []\n",
            "Conv2d  :  ['hook']\n",
            "BatchNorm2d  :  ['hook']\n",
            "Conv2d  :  ['hook']\n",
            "BatchNorm2d  :  ['hook']\n",
            "LambdaLayer  :  ['hook']\n",
            "BasicBlock  :  []\n",
            "Conv2d  :  ['hook']\n",
            "BatchNorm2d  :  ['hook']\n",
            "Conv2d  :  ['hook']\n",
            "BatchNorm2d  :  ['hook']\n",
            "Sequential  :  ['hook']\n",
            "BasicBlock  :  []\n",
            "Conv2d  :  ['hook']\n",
            "BatchNorm2d  :  ['hook']\n",
            "Conv2d  :  ['hook']\n",
            "BatchNorm2d  :  ['hook']\n",
            "Sequential  :  ['hook']\n",
            "Linear  :  ['hook']\n"
          ]
        }
      ],
      "source": [
        "def show_hooks(net):\n",
        "    for name, module in net.named_modules():\n",
        "        print(module.__class__.__name__, \" : \", [ v.__name__ for _,v in module._forward_hooks.items()])\n",
        "\n",
        "show_hooks(net)"
      ]
    },
    {
      "cell_type": "markdown",
      "metadata": {},
      "source": [
        "Sadly, removing hook is not simple _(it's a hook! - pun intended)_.\n",
        "\n",
        "No, actually is pretty simple. You can remove hook easily **if you keep the hook handle** when registering the hook:\n",
        "```\n",
        "handle = module.register_forward_hook(hook)\n",
        "handle.remove() # hook deleted\n",
        "```\n",
        "but we didn't do it :( \n",
        "\n",
        "The other way is by restarting the Dict that store all the hooks in each model"
      ]
    },
    {
      "cell_type": "code",
      "execution_count": 9,
      "metadata": {},
      "outputs": [
        {
          "name": "stdout",
          "output_type": "stream",
          "text": [
            "ResNet  :  []\n",
            "Conv2d  :  []\n",
            "BatchNorm2d  :  []\n",
            "Sequential  :  []\n",
            "BasicBlock  :  []\n",
            "Conv2d  :  []\n",
            "BatchNorm2d  :  []\n",
            "Conv2d  :  []\n",
            "BatchNorm2d  :  []\n",
            "Sequential  :  []\n",
            "BasicBlock  :  []\n",
            "Conv2d  :  []\n",
            "BatchNorm2d  :  []\n",
            "Conv2d  :  []\n",
            "BatchNorm2d  :  []\n",
            "Sequential  :  []\n",
            "BasicBlock  :  []\n",
            "Conv2d  :  []\n",
            "BatchNorm2d  :  []\n",
            "Conv2d  :  []\n",
            "BatchNorm2d  :  []\n",
            "Sequential  :  []\n",
            "Sequential  :  []\n",
            "BasicBlock  :  []\n",
            "Conv2d  :  []\n",
            "BatchNorm2d  :  []\n",
            "Conv2d  :  []\n",
            "BatchNorm2d  :  []\n",
            "LambdaLayer  :  []\n",
            "BasicBlock  :  []\n",
            "Conv2d  :  []\n",
            "BatchNorm2d  :  []\n",
            "Conv2d  :  []\n",
            "BatchNorm2d  :  []\n",
            "Sequential  :  []\n",
            "BasicBlock  :  []\n",
            "Conv2d  :  []\n",
            "BatchNorm2d  :  []\n",
            "Conv2d  :  []\n",
            "BatchNorm2d  :  []\n",
            "Sequential  :  []\n",
            "Sequential  :  []\n",
            "BasicBlock  :  []\n",
            "Conv2d  :  []\n",
            "BatchNorm2d  :  []\n",
            "Conv2d  :  []\n",
            "BatchNorm2d  :  []\n",
            "LambdaLayer  :  []\n",
            "BasicBlock  :  []\n",
            "Conv2d  :  []\n",
            "BatchNorm2d  :  []\n",
            "Conv2d  :  []\n",
            "BatchNorm2d  :  []\n",
            "Sequential  :  []\n",
            "BasicBlock  :  []\n",
            "Conv2d  :  []\n",
            "BatchNorm2d  :  []\n",
            "Conv2d  :  []\n",
            "BatchNorm2d  :  []\n",
            "Sequential  :  []\n",
            "Linear  :  []\n"
          ]
        }
      ],
      "source": [
        "from collections import OrderedDict\n",
        "from typing import Dict, Callable\n",
        "\n",
        "def clear_hooks(net):\n",
        "    for name, module in net.named_modules():\n",
        "        module._forward_hooks:Dict[int, Callable] = OrderedDict()\n",
        "\n",
        "clear_hooks(net)\n",
        "show_hooks(net)"
      ]
    },
    {
      "cell_type": "markdown",
      "metadata": {},
      "source": [
        "## Sample #2"
      ]
    },
    {
      "cell_type": "code",
      "execution_count": 10,
      "metadata": {},
      "outputs": [],
      "source": [
        "from resnet_cifar10 import *\n",
        "\n",
        "intermediate_outputs = []\n",
        "net = resnet20()\n",
        "net.to(\"cuda\")\n",
        "\n",
        "# load pretrained model\n",
        "net.load_state_dict(torch.load(\"resnet20-0.pt\"))\n",
        "\n",
        "def hook(module, inp, out):\n",
        "    with torch.no_grad():\n",
        "        intermediate_outputs.append(out.detach())\n",
        "\n",
        "for name, module in net.named_modules():\n",
        "    if 'conv' in name:\n",
        "        module.register_forward_hook(hook) # registering hook!!\n",
        "\n",
        "image, label = testset[8]\n",
        "predicted = predict(net, image)"
      ]
    },
    {
      "cell_type": "code",
      "execution_count": 11,
      "metadata": {},
      "outputs": [
        {
          "data": {
            "image/png": "[encoded data removed]",
            "text/plain": [
              "<Figure size 1000x400 with 5 Axes>"
            ]
          },
          "metadata": {},
          "output_type": "display_data"
        }
      ],
      "source": [
        "# visualize first 10 intermediate outputs in 2x5 grids\n",
        "fig = plt.figure(figsize=(10, 4))\n",
        "for i in range(5):\n",
        "    ax = fig.add_subplot(1, 5, i+1)\n",
        "    ax.imshow(intermediate_outputs[i][0][0].cpu())\n",
        "    ax.set_title(f\"conv #{i+1}\")\n",
        "    ax.axis(\"off\") \n",
        "plt.show()"
      ]
    },
    {
      "cell_type": "markdown",
      "metadata": {
        "id": "f51W8vJL9Aav"
      },
      "source": [
        "# Triple Modular Redundancy\n",
        "\n",
        "Create a layer-level TMR for a model"
      ]
    },
    {
      "cell_type": "code",
      "execution_count": 12,
      "metadata": {
        "id": "wVr2cOOW9D7V"
      },
      "outputs": [],
      "source": [
        "import copy \n",
        "\n",
        "class TMRmodel(nn.Module):\n",
        "    \n",
        "    def __init__(self, model):\n",
        "        \n",
        "        super(TMRmodel, self).__init__()\n",
        "        self.model = copy.deepcopy(model)\n",
        "        self.backup1 = nn.ParameterDict()\n",
        "        self.backup2 = nn.ParameterDict()\n",
        "\n",
        "        self.protected = False\n",
        "        for name, module in self.model.named_modules():\n",
        "            if len(list(module.children()))==0:\n",
        "                module.__name__ = name\n",
        "                with torch.no_grad():\n",
        "                    self.backup1[name] = copy.deepcopy(module)\n",
        "                    self.backup2[name] = copy.deepcopy(module)\n",
        "                module.register_forward_hook(self.tmrhook())\n",
        "\n",
        "    def tmrhook(self):\n",
        "        def hook(module, inp, out_main):\n",
        "            with torch.no_grad():\n",
        "                if self.protected:\n",
        "                    module_1 = self.backup1[module.__name__].eval()\n",
        "                    module_2 = self.backup2[module.__name__].eval()\n",
        "                    \n",
        "                    out_backup_1 = module_1(inp[0])\n",
        "                    out_backup_2 = module_2(inp[0])\n",
        "                    \n",
        "                    out_correct = None # correct output\n",
        "                    flag = 0 # check error\n",
        "                    if torch.allclose(out_main, out_backup_1, equal_nan=True):\n",
        "                        if not torch.allclose(out_backup_1, out_backup_2, equal_nan=True):\n",
        "                            flag += 2\n",
        "                            out_correct = out_main\n",
        "                    else:\n",
        "                        flag += 1\n",
        "                        out_correct = out_backup_1[:]\n",
        "                        if not torch.allclose(out_backup_1, out_backup_2, equal_nan=True):\n",
        "                            flag += 2\n",
        "                            out_correct = out_main\n",
        "                            if not torch.allclose(out_main, out_backup_2, equal_nan=True):\n",
        "                                flag += 4\n",
        "\n",
        "                    if flag==1: # error in main module\n",
        "                        module = copy.deepcopy(module_1)\n",
        "                    elif flag==3: # error in model_backup_1\n",
        "                        module_1 = copy.deepcopy(module)\n",
        "                    elif flag==2: # error in model_backup_2\n",
        "                        module_2 = copy.deepcopy(module)\n",
        "                    elif flag==7:\n",
        "                        print(\"Error on more than or equal two modules\")\n",
        "                        \n",
        "                    return out_correct \n",
        "        return hook\n",
        "\n",
        "    def forward(self, x):\n",
        "        out = self.model(x)\n",
        "        return out"
      ]
    },
    {
      "cell_type": "code",
      "execution_count": 13,
      "metadata": {},
      "outputs": [
        {
          "name": "stdout",
          "output_type": "stream",
          "text": [
            "Correctly predict 9172 of 10,000 (Acc: 91.72%)\n"
          ]
        }
      ],
      "source": [
        "net = resnet20()\n",
        "net.to(\"cuda\")\n",
        "net.load_state_dict(torch.load(\"resnet20-0.pt\"))\n",
        "\n",
        "tmrnet = TMRmodel(net)\n",
        "tmrnet.to(\"cuda\")\n",
        "\n",
        "correct = eval(tmrnet, testloader)\n",
        "print(f\"Correctly predict {correct} of 10,000 (Acc: {correct/10000*100}%)\")"
      ]
    },
    {
      "cell_type": "code",
      "execution_count": 14,
      "metadata": {},
      "outputs": [],
      "source": [
        "with torch.no_grad():\n",
        "    tmrnet.model.conv1.weight.copy_(torch.randn_like(net.conv1.weight))"
      ]
    },
    {
      "cell_type": "code",
      "execution_count": 15,
      "metadata": {},
      "outputs": [
        {
          "name": "stdout",
          "output_type": "stream",
          "text": [
            "Correctly predict 2509 of 10,000 (Acc: 25.09%)\n"
          ]
        }
      ],
      "source": [
        "correct = eval(tmrnet, testloader)\n",
        "print(f\"Correctly predict {correct} of 10,000 (Acc: {correct/10000*100}%)\")"
      ]
    },
    {
      "cell_type": "code",
      "execution_count": 16,
      "metadata": {},
      "outputs": [
        {
          "name": "stdout",
          "output_type": "stream",
          "text": [
            "Correctly predict 9172 of 10,000 (Acc: 91.72%)\n"
          ]
        }
      ],
      "source": [
        "tmrnet.protected = True\n",
        "correct = eval(tmrnet, testloader)\n",
        "print(f\"Correctly predict {correct} of 10,000 (Acc: {correct/10000*100}%)\")"
      ]
    }
  ],
  "metadata": {
    "accelerator": "GPU",
    "colab": {
      "gpuType": "T4",
      "provenance": []
    },
    "kernelspec": {
      "display_name": "Python 3",
      "name": "python3"
    },
    "language_info": {
      "codemirror_mode": {
        "name": "ipython",
        "version": 3
      },
      "file_extension": ".py",
      "mimetype": "text/x-python",
      "name": "python",
      "nbconvert_exporter": "python",
      "pygments_lexer": "ipython3",
      "version": "3.9.16"
    }
  },
  "nbformat": 4,
  "nbformat_minor": 0
}
