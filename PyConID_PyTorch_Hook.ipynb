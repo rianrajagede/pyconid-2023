{
  "cells": [
    {
      "cell_type": "markdown",
      "metadata": {
        "id": "YvWxniTr8x1I"
      },
      "source": [
        "# A Glimpse of PyTorch"
      ]
    },
    {
      "cell_type": "code",
      "execution_count": 12,
      "metadata": {},
      "outputs": [],
      "source": [
        "import torch\n",
        "import torch.nn as nn\n",
        "import torch.nn.functional as F\n",
        "import torch.optim as optim\n",
        "import torchvision\n",
        "import torchvision.transforms as transforms"
      ]
    },
    {
      "cell_type": "markdown",
      "metadata": {},
      "source": [
        "### Preparing dataset"
      ]
    },
    {
      "cell_type": "code",
      "execution_count": 13,
      "metadata": {},
      "outputs": [
        {
          "name": "stdout",
          "output_type": "stream",
          "text": [
            "Files already downloaded and verified\n",
            "Files already downloaded and verified\n"
          ]
        }
      ],
      "source": [
        "# define transformation function for dataset\n",
        "transform = transforms.Compose([transforms.ToTensor(),\n",
        "                                transforms.Normalize((0.4914, 0.4822, 0.4465), (0.247, 0.243, 0.261))])\n",
        "\n",
        "# Load the CIFAR-10 dataset and define data transformations (dataset will be downloaded automatically if not present)\n",
        "trainset = torchvision.datasets.CIFAR10(root='./data', train=True, download=True, transform=transform)\n",
        "trainloader = torch.utils.data.DataLoader(trainset, batch_size=32, shuffle=True)\n",
        "testset = torchvision.datasets.CIFAR10(root='./data', train=False, download=True, transform=transform)\n",
        "testloader = torch.utils.data.DataLoader(testset, batch_size=32, shuffle=True)"
      ]
    },
    {
      "cell_type": "markdown",
      "metadata": {},
      "source": [
        "### Defining the model architecture"
      ]
    },
    {
      "cell_type": "code",
      "execution_count": 14,
      "metadata": {},
      "outputs": [
        {
          "data": {
            "text/plain": [
              "SimpleCNN(\n",
              "  (conv1): Conv2d(3, 16, kernel_size=(3, 3), stride=(1, 1))\n",
              "  (pool): MaxPool2d(kernel_size=2, stride=2, padding=0, dilation=1, ceil_mode=False)\n",
              "  (fc1): Linear(in_features=3600, out_features=64, bias=True)\n",
              "  (fc2): Linear(in_features=64, out_features=10, bias=True)\n",
              ")"
            ]
          },
          "execution_count": 14,
          "metadata": {},
          "output_type": "execute_result"
        }
      ],
      "source": [
        "# Define a simple CNN model\n",
        "class SimpleCNN(nn.Module):\n",
        "    def __init__(self):\n",
        "        super(SimpleCNN, self).__init__()\n",
        "        self.conv1 = nn.Conv2d(3, 16, 3)\n",
        "        self.pool = nn.MaxPool2d(2, 2)\n",
        "        self.fc1 = nn.Linear(3600, 64)\n",
        "        self.fc2 = nn.Linear(64, 10)\n",
        "\n",
        "    def forward(self, x):\n",
        "        x = self.pool(F.relu(self.conv1(x)))\n",
        "        x = x.view(x.shape[0], -1)\n",
        "        x = F.relu(self.fc1(x))\n",
        "        x = self.fc2(x)\n",
        "        return x\n",
        "\n",
        "# Initialize the model\n",
        "net = SimpleCNN()\n",
        "net.to(\"cuda\") # move the model to GPU"
      ]
    },
    {
      "cell_type": "markdown",
      "metadata": {
        "id": "l3p9HjUAqj7d"
      },
      "source": [
        "### Training Phase"
      ]
    },
    {
      "cell_type": "code",
      "execution_count": 15,
      "metadata": {
        "colab": {
          "base_uri": "https://localhost:8080/"
        },
        "id": "ZV0KIlWX8oeo",
        "outputId": "95fc6444-2e60-4c2e-ee80-7cba84aee1bb"
      },
      "outputs": [
        {
          "name": "stdout",
          "output_type": "stream",
          "text": [
            "Epoch 1, Loss: 1.6852942557191513\n",
            "Epoch 2, Loss: 1.2863099461019765\n",
            "Epoch 3, Loss: 1.1513892265366805\n",
            "Epoch 4, Loss: 1.055342442624781\n",
            "Epoch 5, Loss: 0.9774943913547031\n",
            "Training finished!\n"
          ]
        }
      ],
      "source": [
        "# define loss function and optimizer\n",
        "criterion = nn.CrossEntropyLoss()\n",
        "optimizer = optim.SGD(net.parameters(), lr=0.001, momentum=0.9)\n",
        "\n",
        "# Train the model (5 epochs)\n",
        "for epoch in range(5):  \n",
        "    running_loss = 0.0\n",
        "    for inputs, labels in trainloader: # loop over the dataset\n",
        "        inputs = inputs.to(\"cuda\") # move the input to GPU \n",
        "        labels = labels.to(\"cuda\") # move the label to GPU\n",
        "\n",
        "        outputs = net(inputs) # forward propagation\n",
        "        loss = criterion(outputs, labels) # compute loss\n",
        "\n",
        "        loss.backward() # backpropagation\n",
        "        optimizer.step() # update the parameters\n",
        "        optimizer.zero_grad() # reset the gradients\n",
        "        running_loss += loss.item() # accumulate the loss (for logging purpose)\n",
        "\n",
        "    print(f\"Epoch {epoch + 1}, Loss: {running_loss / len(trainloader)}\")\n",
        "\n",
        "print(\"Training finished!\")"
      ]
    },
    {
      "cell_type": "markdown",
      "metadata": {
        "id": "HXIdeT0txapT"
      },
      "source": [
        "### Evaluation Phase"
      ]
    },
    {
      "cell_type": "code",
      "execution_count": 16,
      "metadata": {
        "colab": {
          "base_uri": "https://localhost:8080/"
        },
        "id": "Oy79YuYjuuh_",
        "outputId": "bf1854d6-271c-409a-fd1a-3100b4012781"
      },
      "outputs": [
        {
          "name": "stdout",
          "output_type": "stream",
          "text": [
            "Correctly predict 6220 of 10,000 (Acc: 62.2%)\n"
          ]
        }
      ],
      "source": [
        "def eval(model, testloader):\n",
        "    correct = 0\n",
        "    model.eval() # set the model to evaluation mode\n",
        "    with torch.no_grad(): # turn off the gradient computation\n",
        "        for inputs, labels in testloader: # loop over the dataset\n",
        "            inputs = inputs.to(\"cuda\") # move the input to GPU\n",
        "            labels = labels.to(\"cuda\") # move the label to GPU\n",
        "\n",
        "            outputs = model(inputs) # forward propagation\n",
        "\n",
        "            # one-liner to compute the number of correct predictions\n",
        "            correct += sum(torch.argmax(outputs, dim=1)==labels).cpu().item()\n",
        "    return correct\n",
        "\n",
        "correct = eval(net, testloader)\n",
        "print(f\"Correctly predict {correct} of 10,000 (Acc: {correct/10000*100}%)\") # 10,000 is the number of eval data"
      ]
    },
    {
      "cell_type": "markdown",
      "metadata": {
        "id": "MwY0U5XVqmHA"
      },
      "source": [
        "### Inference Phase"
      ]
    },
    {
      "cell_type": "code",
      "execution_count": 17,
      "metadata": {
        "colab": {
          "base_uri": "https://localhost:8080/",
          "height": 490
        },
        "id": "cZb4DWW9qoHP",
        "outputId": "f38b20b7-e92a-48a9-9188-f152b14346f3"
      },
      "outputs": [
        {
          "data": {
            "image/png": "[encoded data removed]",
            "text/plain": [
              "<Figure size 200x200 with 1 Axes>"
            ]
          },
          "metadata": {},
          "output_type": "display_data"
        }
      ],
      "source": [
        "# Inference on a sample image\n",
        "import matplotlib.pyplot as plt\n",
        "from PIL import Image\n",
        "\n",
        "def predict(model, image):\n",
        "    model.eval() # set the model to evaluation mode\n",
        "    with torch.no_grad(): # turn off the gradient computation\n",
        "        image = transform(image).to(\"cuda\").unsqueeze(0) # apply the transformation and move the input to GPU\n",
        "        outputs = model(image) # forward propagation\n",
        "        _, predicted = torch.max(outputs, 1) # get the predicted class\n",
        "    return predicted.item()\n",
        "\n",
        "# Define class labels for CIFAR-10\n",
        "classes = ('plane', 'car', 'bird', 'cat', 'deer', 'dog', 'frog', 'horse', 'ship', 'truck')\n",
        "\n",
        "image = Image.open(\"cat9.png\") # load the image\n",
        "predicted = predict(net, image) # predict the class\n",
        "\n",
        "plt.figure(figsize = (2,2))\n",
        "plt.imshow(image)\n",
        "plt.title(\"Label: cat  -  Predicted: \"+str(classes[predicted]))\n",
        "plt.show()"
      ]
    },
    {
      "cell_type": "markdown",
      "metadata": {
        "id": "Y-d8Tu0M810i"
      },
      "source": [
        "# Using A Pre-Trained Model"
      ]
    },
    {
      "cell_type": "markdown",
      "metadata": {},
      "source": [
        "### Load the model"
      ]
    },
    {
      "cell_type": "code",
      "execution_count": 18,
      "metadata": {
        "id": "yBg_MxdR88lR"
      },
      "outputs": [
        {
          "data": {
            "text/plain": [
              "<All keys matched successfully>"
            ]
          },
          "execution_count": 18,
          "metadata": {},
          "output_type": "execute_result"
        }
      ],
      "source": [
        "from resnet_cifar10 import *\n",
        "\n",
        "net = resnet20() # initialize the model \n",
        "net.to(\"cuda\") # move the model to GPU\n",
        "\n",
        "# load pretrained model weights\n",
        "net.load_state_dict(torch.load(\"resnet20-0.pt\"))"
      ]
    },
    {
      "cell_type": "markdown",
      "metadata": {},
      "source": [
        "### Evaluation Phase"
      ]
    },
    {
      "cell_type": "code",
      "execution_count": 19,
      "metadata": {},
      "outputs": [
        {
          "name": "stdout",
          "output_type": "stream",
          "text": [
            "Correctly predict 9172 of 10,000 (Acc: 91.72%)\n"
          ]
        }
      ],
      "source": [
        "# Testing the model\n",
        "correct = eval(net, testloader)\n",
        "print(f\"Correctly predict {correct} of 10,000 (Acc: {correct/10000*100}%)\")"
      ]
    },
    {
      "cell_type": "markdown",
      "metadata": {
        "id": "GxJtA-hW8915"
      },
      "source": [
        "# Introduction to PyTorch Hook"
      ]
    },
    {
      "cell_type": "markdown",
      "metadata": {},
      "source": [
        "### Example #1:\n",
        "Let's print the input and output size for each layer. Here, we will use forward hook attached to all layers\n",
        "\n",
        "Visualization:\n",
        "\n",
        "<img src=\"images/hook-1.png\" width=\"300\"/>\n",
        "\n",
        "---\n",
        "**Note**: hook works like a \"hook\", you put an additional function to a tensor/module of a model. So, if you run the cell below twice, you will  put two functions in the tensor/module. If you want to reset it, you can reload the model (two cells above) or just keep reading"
      ]
    },
    {
      "cell_type": "code",
      "execution_count": 20,
      "metadata": {
        "id": "PgkVcjGV8_ol"
      },
      "outputs": [
        {
          "name": "stdout",
          "output_type": "stream",
          "text": [
            "=======\n",
            "module:  Conv2d\n",
            "input:  torch.Size([1, 3, 32, 32])  | output:  torch.Size([1, 16, 32, 32])\n",
            "=======\n",
            "module:  BatchNorm2d\n",
            "input:  torch.Size([1, 16, 32, 32])  | output:  torch.Size([1, 16, 32, 32])\n",
            "=======\n",
            "module:  Conv2d\n",
            "input:  torch.Size([1, 16, 32, 32])  | output:  torch.Size([1, 16, 32, 32])\n",
            "=======\n",
            "module:  BatchNorm2d\n",
            "input:  torch.Size([1, 16, 32, 32])  | output:  torch.Size([1, 16, 32, 32])\n",
            "=======\n",
            "module:  Conv2d\n",
            "input:  torch.Size([1, 16, 32, 32])  | output:  torch.Size([1, 16, 32, 32])\n",
            "=======\n",
            "module:  BatchNorm2d\n",
            "input:  torch.Size([1, 16, 32, 32])  | output:  torch.Size([1, 16, 32, 32])\n",
            "=======\n",
            "module:  Sequential\n",
            "input:  torch.Size([1, 16, 32, 32])  | output:  torch.Size([1, 16, 32, 32])\n",
            "=======\n",
            "module:  Conv2d\n",
            "input:  torch.Size([1, 16, 32, 32])  | output:  torch.Size([1, 16, 32, 32])\n",
            "=======\n",
            "module:  BatchNorm2d\n",
            "input:  torch.Size([1, 16, 32, 32])  | output:  torch.Size([1, 16, 32, 32])\n",
            "=======\n",
            "module:  Conv2d\n",
            "input:  torch.Size([1, 16, 32, 32])  | output:  torch.Size([1, 16, 32, 32])\n",
            "=======\n",
            "module:  BatchNorm2d\n",
            "input:  torch.Size([1, 16, 32, 32])  | output:  torch.Size([1, 16, 32, 32])\n",
            "=======\n",
            "module:  Sequential\n",
            "input:  torch.Size([1, 16, 32, 32])  | output:  torch.Size([1, 16, 32, 32])\n",
            "=======\n",
            "module:  Conv2d\n",
            "input:  torch.Size([1, 16, 32, 32])  | output:  torch.Size([1, 16, 32, 32])\n",
            "=======\n",
            "module:  BatchNorm2d\n",
            "input:  torch.Size([1, 16, 32, 32])  | output:  torch.Size([1, 16, 32, 32])\n",
            "=======\n",
            "module:  Conv2d\n",
            "input:  torch.Size([1, 16, 32, 32])  | output:  torch.Size([1, 16, 32, 32])\n",
            "=======\n",
            "module:  BatchNorm2d\n",
            "input:  torch.Size([1, 16, 32, 32])  | output:  torch.Size([1, 16, 32, 32])\n",
            "=======\n",
            "module:  Sequential\n",
            "input:  torch.Size([1, 16, 32, 32])  | output:  torch.Size([1, 16, 32, 32])\n",
            "=======\n",
            "module:  Conv2d\n",
            "input:  torch.Size([1, 16, 32, 32])  | output:  torch.Size([1, 32, 16, 16])\n",
            "=======\n",
            "module:  BatchNorm2d\n",
            "input:  torch.Size([1, 32, 16, 16])  | output:  torch.Size([1, 32, 16, 16])\n",
            "=======\n",
            "module:  Conv2d\n",
            "input:  torch.Size([1, 32, 16, 16])  | output:  torch.Size([1, 32, 16, 16])\n",
            "=======\n",
            "module:  BatchNorm2d\n",
            "input:  torch.Size([1, 32, 16, 16])  | output:  torch.Size([1, 32, 16, 16])\n",
            "=======\n",
            "module:  LambdaLayer\n",
            "input:  torch.Size([1, 16, 32, 32])  | output:  torch.Size([1, 32, 16, 16])\n",
            "=======\n",
            "module:  Conv2d\n",
            "input:  torch.Size([1, 32, 16, 16])  | output:  torch.Size([1, 32, 16, 16])\n",
            "=======\n",
            "module:  BatchNorm2d\n",
            "input:  torch.Size([1, 32, 16, 16])  | output:  torch.Size([1, 32, 16, 16])\n",
            "=======\n",
            "module:  Conv2d\n",
            "input:  torch.Size([1, 32, 16, 16])  | output:  torch.Size([1, 32, 16, 16])\n",
            "=======\n",
            "module:  BatchNorm2d\n",
            "input:  torch.Size([1, 32, 16, 16])  | output:  torch.Size([1, 32, 16, 16])\n",
            "=======\n",
            "module:  Sequential\n",
            "input:  torch.Size([1, 32, 16, 16])  | output:  torch.Size([1, 32, 16, 16])\n",
            "=======\n",
            "module:  Conv2d\n",
            "input:  torch.Size([1, 32, 16, 16])  | output:  torch.Size([1, 32, 16, 16])\n",
            "=======\n",
            "module:  BatchNorm2d\n",
            "input:  torch.Size([1, 32, 16, 16])  | output:  torch.Size([1, 32, 16, 16])\n",
            "=======\n",
            "module:  Conv2d\n",
            "input:  torch.Size([1, 32, 16, 16])  | output:  torch.Size([1, 32, 16, 16])\n",
            "=======\n",
            "module:  BatchNorm2d\n",
            "input:  torch.Size([1, 32, 16, 16])  | output:  torch.Size([1, 32, 16, 16])\n",
            "=======\n",
            "module:  Sequential\n",
            "input:  torch.Size([1, 32, 16, 16])  | output:  torch.Size([1, 32, 16, 16])\n",
            "=======\n",
            "module:  Conv2d\n",
            "input:  torch.Size([1, 32, 16, 16])  | output:  torch.Size([1, 64, 8, 8])\n",
            "=======\n",
            "module:  BatchNorm2d\n",
            "input:  torch.Size([1, 64, 8, 8])  | output:  torch.Size([1, 64, 8, 8])\n",
            "=======\n",
            "module:  Conv2d\n",
            "input:  torch.Size([1, 64, 8, 8])  | output:  torch.Size([1, 64, 8, 8])\n",
            "=======\n",
            "module:  BatchNorm2d\n",
            "input:  torch.Size([1, 64, 8, 8])  | output:  torch.Size([1, 64, 8, 8])\n",
            "=======\n",
            "module:  LambdaLayer\n",
            "input:  torch.Size([1, 32, 16, 16])  | output:  torch.Size([1, 64, 8, 8])\n",
            "=======\n",
            "module:  Conv2d\n",
            "input:  torch.Size([1, 64, 8, 8])  | output:  torch.Size([1, 64, 8, 8])\n",
            "=======\n",
            "module:  BatchNorm2d\n",
            "input:  torch.Size([1, 64, 8, 8])  | output:  torch.Size([1, 64, 8, 8])\n",
            "=======\n",
            "module:  Conv2d\n",
            "input:  torch.Size([1, 64, 8, 8])  | output:  torch.Size([1, 64, 8, 8])\n",
            "=======\n",
            "module:  BatchNorm2d\n",
            "input:  torch.Size([1, 64, 8, 8])  | output:  torch.Size([1, 64, 8, 8])\n",
            "=======\n",
            "module:  Sequential\n",
            "input:  torch.Size([1, 64, 8, 8])  | output:  torch.Size([1, 64, 8, 8])\n",
            "=======\n",
            "module:  Conv2d\n",
            "input:  torch.Size([1, 64, 8, 8])  | output:  torch.Size([1, 64, 8, 8])\n",
            "=======\n",
            "module:  BatchNorm2d\n",
            "input:  torch.Size([1, 64, 8, 8])  | output:  torch.Size([1, 64, 8, 8])\n",
            "=======\n",
            "module:  Conv2d\n",
            "input:  torch.Size([1, 64, 8, 8])  | output:  torch.Size([1, 64, 8, 8])\n",
            "=======\n",
            "module:  BatchNorm2d\n",
            "input:  torch.Size([1, 64, 8, 8])  | output:  torch.Size([1, 64, 8, 8])\n",
            "=======\n",
            "module:  Sequential\n",
            "input:  torch.Size([1, 64, 8, 8])  | output:  torch.Size([1, 64, 8, 8])\n",
            "=======\n",
            "module:  Linear\n",
            "input:  torch.Size([1, 64])  | output:  torch.Size([1, 10])\n"
          ]
        }
      ],
      "source": [
        "def hook(module, inp, out): # hook function\n",
        "    print(\"=======\")\n",
        "    print(\"module: \", module.__class__.__name__)\n",
        "    print(\"input: \", inp[0].shape, \" | output: \", out.shape)\n",
        "\n",
        "\n",
        "for name, module in net.named_modules(): # loop over all modules in the model\n",
        "    if len(list(module.children()))==0: # if module is leaf (a layer)\n",
        "        module.register_forward_hook(hook) # registering hook!!\n",
        "\n",
        "\n",
        "image = Image.open(\"cat9.png\")\n",
        "predicted = predict(net, image)"
      ]
    },
    {
      "cell_type": "markdown",
      "metadata": {},
      "source": [
        "The cell below will iterate all modules and print the registered forward hook. If there is a hook in it, it will print \"hook\".\n",
        "\n",
        "Remember, a module is not the same with a layer. In previous cell, we only register hook to layers"
      ]
    },
    {
      "cell_type": "code",
      "execution_count": 38,
      "metadata": {},
      "outputs": [
        {
          "name": "stdout",
          "output_type": "stream",
          "text": [
            "ResNet  :  []\n",
            "Conv2d  :  ['hook']\n",
            "BatchNorm2d  :  ['hook']\n",
            "Sequential  :  []\n",
            "BasicBlock  :  []\n",
            "Conv2d  :  ['hook']\n",
            "BatchNorm2d  :  ['hook']\n",
            "Conv2d  :  ['hook']\n",
            "BatchNorm2d  :  ['hook']\n",
            "Sequential  :  ['hook']\n",
            "BasicBlock  :  []\n",
            "Conv2d  :  ['hook']\n",
            "BatchNorm2d  :  ['hook']\n",
            "Conv2d  :  ['hook']\n",
            "BatchNorm2d  :  ['hook']\n",
            "Sequential  :  ['hook']\n",
            "BasicBlock  :  []\n",
            "Conv2d  :  ['hook']\n",
            "BatchNorm2d  :  ['hook']\n",
            "Conv2d  :  ['hook']\n",
            "BatchNorm2d  :  ['hook']\n",
            "Sequential  :  ['hook']\n",
            "Sequential  :  []\n",
            "BasicBlock  :  []\n",
            "Conv2d  :  ['hook']\n",
            "BatchNorm2d  :  ['hook']\n",
            "Conv2d  :  ['hook']\n",
            "BatchNorm2d  :  ['hook']\n",
            "LambdaLayer  :  ['hook']\n",
            "BasicBlock  :  []\n",
            "Conv2d  :  ['hook']\n",
            "BatchNorm2d  :  ['hook']\n",
            "Conv2d  :  ['hook']\n",
            "BatchNorm2d  :  ['hook']\n",
            "Sequential  :  ['hook']\n",
            "BasicBlock  :  []\n",
            "Conv2d  :  ['hook']\n",
            "BatchNorm2d  :  ['hook']\n",
            "Conv2d  :  ['hook']\n",
            "BatchNorm2d  :  ['hook']\n",
            "Sequential  :  ['hook']\n",
            "Sequential  :  []\n",
            "BasicBlock  :  []\n",
            "Conv2d  :  ['hook']\n",
            "BatchNorm2d  :  ['hook']\n",
            "Conv2d  :  ['hook']\n",
            "BatchNorm2d  :  ['hook']\n",
            "LambdaLayer  :  ['hook']\n",
            "BasicBlock  :  []\n",
            "Conv2d  :  ['hook']\n",
            "BatchNorm2d  :  ['hook']\n",
            "Conv2d  :  ['hook']\n",
            "BatchNorm2d  :  ['hook']\n",
            "Sequential  :  ['hook']\n",
            "BasicBlock  :  []\n",
            "Conv2d  :  ['hook']\n",
            "BatchNorm2d  :  ['hook']\n",
            "Conv2d  :  ['hook']\n",
            "BatchNorm2d  :  ['hook']\n",
            "Sequential  :  ['hook']\n",
            "Linear  :  ['hook']\n"
          ]
        }
      ],
      "source": [
        "def show_hooks(net):\n",
        "    for name, module in net.named_modules(): # loop over all modules in the model\n",
        "        print(module.__class__.__name__, \" : \", [ v.__name__ for _,v in module._forward_hooks.items()]) # print the hook function name\n",
        "\n",
        "show_hooks(net)"
      ]
    },
    {
      "cell_type": "markdown",
      "metadata": {},
      "source": [
        "Sadly, removing hook is not simple _(it's a hook! - pun intended)_.\n",
        "\n",
        "No, actually is pretty simple. You can remove hook easily **if you keep the hook handle** when registering the hook:\n",
        "```\n",
        "handle = module.register_forward_hook(hook)\n",
        "handle.remove() # hook deleted\n",
        "```\n",
        "but we didn't do it :( \n",
        "\n",
        "The other way is by restarting the Dict that store all the hooks in each model"
      ]
    },
    {
      "cell_type": "code",
      "execution_count": 39,
      "metadata": {},
      "outputs": [
        {
          "name": "stdout",
          "output_type": "stream",
          "text": [
            "ResNet  :  []\n",
            "Conv2d  :  []\n",
            "BatchNorm2d  :  []\n",
            "Sequential  :  []\n",
            "BasicBlock  :  []\n",
            "Conv2d  :  []\n",
            "BatchNorm2d  :  []\n",
            "Conv2d  :  []\n",
            "BatchNorm2d  :  []\n",
            "Sequential  :  []\n",
            "BasicBlock  :  []\n",
            "Conv2d  :  []\n",
            "BatchNorm2d  :  []\n",
            "Conv2d  :  []\n",
            "BatchNorm2d  :  []\n",
            "Sequential  :  []\n",
            "BasicBlock  :  []\n",
            "Conv2d  :  []\n",
            "BatchNorm2d  :  []\n",
            "Conv2d  :  []\n",
            "BatchNorm2d  :  []\n",
            "Sequential  :  []\n",
            "Sequential  :  []\n",
            "BasicBlock  :  []\n",
            "Conv2d  :  []\n",
            "BatchNorm2d  :  []\n",
            "Conv2d  :  []\n",
            "BatchNorm2d  :  []\n",
            "LambdaLayer  :  []\n",
            "BasicBlock  :  []\n",
            "Conv2d  :  []\n",
            "BatchNorm2d  :  []\n",
            "Conv2d  :  []\n",
            "BatchNorm2d  :  []\n",
            "Sequential  :  []\n",
            "BasicBlock  :  []\n",
            "Conv2d  :  []\n",
            "BatchNorm2d  :  []\n",
            "Conv2d  :  []\n",
            "BatchNorm2d  :  []\n",
            "Sequential  :  []\n",
            "Sequential  :  []\n",
            "BasicBlock  :  []\n",
            "Conv2d  :  []\n",
            "BatchNorm2d  :  []\n",
            "Conv2d  :  []\n",
            "BatchNorm2d  :  []\n",
            "LambdaLayer  :  []\n",
            "BasicBlock  :  []\n",
            "Conv2d  :  []\n",
            "BatchNorm2d  :  []\n",
            "Conv2d  :  []\n",
            "BatchNorm2d  :  []\n",
            "Sequential  :  []\n",
            "BasicBlock  :  []\n",
            "Conv2d  :  []\n",
            "BatchNorm2d  :  []\n",
            "Conv2d  :  []\n",
            "BatchNorm2d  :  []\n",
            "Sequential  :  []\n",
            "Linear  :  []\n"
          ]
        }
      ],
      "source": [
        "from collections import OrderedDict\n",
        "from typing import Dict, Callable\n",
        "\n",
        "def clear_hooks(net):\n",
        "    for name, module in net.named_modules(): # loop over all modules in the model\n",
        "        module._forward_hooks:Dict[int, Callable] = OrderedDict() # clear all hooks\n",
        "\n",
        "clear_hooks(net)\n",
        "show_hooks(net)"
      ]
    },
    {
      "cell_type": "markdown",
      "metadata": {},
      "source": [
        "## Example #2"
      ]
    },
    {
      "cell_type": "markdown",
      "metadata": {},
      "source": [
        "In this example we will use hook to visualize intermediate output of neural network model.\n",
        "\n",
        "we will use forward hook attached only to conv layers\n",
        "\n",
        "Visualization:\n",
        "\n",
        "<img src=\"images/hook-2.png\" width=\"300\"/>"
      ]
    },
    {
      "cell_type": "code",
      "execution_count": 40,
      "metadata": {},
      "outputs": [],
      "source": [
        "from resnet_cifar10 import *\n",
        "\n",
        "intermediate_outputs = []\n",
        "\n",
        "# reload the model just for convenience\n",
        "net = resnet20()\n",
        "net.to(\"cuda\")\n",
        "net.load_state_dict(torch.load(\"resnet20-0.pt\"))\n",
        "\n",
        "def hook(module, inp, out): # hook function\n",
        "    with torch.no_grad():\n",
        "        intermediate_outputs.append(out.detach()) # save the intermediate output\n",
        "\n",
        "for name, module in net.named_modules(): # loop over all modules in the model\n",
        "    if 'conv' in name:\n",
        "        module.register_forward_hook(hook) # registering hook!!\n",
        "\n",
        "image = Image.open(\"cat9.png\") # load the image\n",
        "predicted = predict(net, image) # pass the input through the model and save the intermediate output"
      ]
    },
    {
      "cell_type": "code",
      "execution_count": 41,
      "metadata": {},
      "outputs": [
        {
          "data": {
            "image/png": "[encoded data removed]",
            "text/plain": [
              "<Figure size 1000x400 with 5 Axes>"
            ]
          },
          "metadata": {},
          "output_type": "display_data"
        }
      ],
      "source": [
        "# visualize first 5 intermediate outputs\n",
        "fig = plt.figure(figsize=(10, 4))\n",
        "for i in range(5):\n",
        "    ax = fig.add_subplot(1, 5, i+1)\n",
        "    ax.imshow(intermediate_outputs[i][0][0].cpu())\n",
        "    ax.set_title(f\"conv #{i+1}\")\n",
        "    ax.axis(\"off\") \n",
        "plt.show()"
      ]
    },
    {
      "cell_type": "markdown",
      "metadata": {
        "id": "f51W8vJL9Aav"
      },
      "source": [
        "# Use Case: Triple Modular Redundancy"
      ]
    },
    {
      "cell_type": "markdown",
      "metadata": {},
      "source": [
        "**What is Triple Modular Redundancy?**\n",
        "\n",
        "Enhance model reliability by run 3 models instead of 1\n",
        "\n",
        "<img src=\"images/tmr.png\" width=\"100\"/>\n",
        "\n",
        "If there is an inconcistency, pick the majority"
      ]
    },
    {
      "cell_type": "code",
      "execution_count": 42,
      "metadata": {
        "id": "wVr2cOOW9D7V"
      },
      "outputs": [],
      "source": [
        "import copy \n",
        "\n",
        "class TMRmodel(nn.Module): # Create a model as a wrapper of the original model\n",
        "    \n",
        "    def __init__(self, model):\n",
        "        \n",
        "        super(TMRmodel, self).__init__()\n",
        "        self.model = copy.deepcopy(model) # the main model\n",
        "        self.backup1 = nn.ParameterDict() # the backup model 1\n",
        "        self.backup2 = nn.ParameterDict() # the backup model 2\n",
        "\n",
        "        self.protected = False\n",
        "        for name, module in self.model.named_modules():\n",
        "            if len(list(module.children()))==0:\n",
        "                module.__name__ = name # set the name of the module for convenience\n",
        "                with torch.no_grad():\n",
        "                    self.backup1[name] = copy.deepcopy(module) # back up model is only list of modules\n",
        "                    self.backup2[name] = copy.deepcopy(module) \n",
        "                module.register_forward_hook(self.tmrhook()) # registering hook!!\n",
        "\n",
        "    def tmrhook(self): # create a hook function. This hook will compare the output of the main and the backup model for each layer\n",
        "        def hook(module, inp, out_main):\n",
        "            with torch.no_grad():\n",
        "                if self.protected: # protection switch\n",
        "                    module_1 = self.backup1[module.__name__].eval()\n",
        "                    module_2 = self.backup2[module.__name__].eval()\n",
        "                    \n",
        "                    out_backup_1 = module_1(inp[0]) # run the backup model 1\n",
        "                    out_backup_2 = module_2(inp[0]) # run the backup model 2\n",
        "                    \n",
        "                    # compare the output of the main and the backup model\n",
        "                    out_correct = None # correct output\n",
        "                    flag = 0 # check error\n",
        "                    if torch.allclose(out_main, out_backup_1, equal_nan=True):\n",
        "                        if not torch.allclose(out_backup_1, out_backup_2, equal_nan=True):\n",
        "                            flag += 2\n",
        "                            out_correct = out_main\n",
        "                    else:\n",
        "                        flag += 1\n",
        "                        out_correct = out_backup_1[:]\n",
        "                        if not torch.allclose(out_backup_1, out_backup_2, equal_nan=True):\n",
        "                            flag += 2\n",
        "                            out_correct = out_main\n",
        "                            if not torch.allclose(out_main, out_backup_2, equal_nan=True):\n",
        "                                flag += 4\n",
        "                                \n",
        "                    # recover the model\n",
        "                    if flag==1: # error in main module\n",
        "                        module = copy.deepcopy(module_1)\n",
        "                    elif flag==3: # error in model_backup_1\n",
        "                        module_1 = copy.deepcopy(module)\n",
        "                    elif flag==2: # error in model_backup_2\n",
        "                        module_2 = copy.deepcopy(module)\n",
        "                    elif flag==7:\n",
        "                        print(\"Error on more than or equal two modules\")\n",
        "                        \n",
        "                    return out_correct \n",
        "        return hook\n",
        "\n",
        "    def forward(self, x): # forward function only run the main model\n",
        "        out = self.model(x)\n",
        "        return out"
      ]
    },
    {
      "cell_type": "code",
      "execution_count": 43,
      "metadata": {},
      "outputs": [
        {
          "name": "stdout",
          "output_type": "stream",
          "text": [
            "Correctly predict 9172 of 10,000 (Acc: 91.72%)\n"
          ]
        }
      ],
      "source": [
        "# load the model\n",
        "net = resnet20()\n",
        "net.to(\"cuda\")\n",
        "net.load_state_dict(torch.load(\"resnet20-0.pt\"))\n",
        "\n",
        "# wrap the model\n",
        "tmrnet = TMRmodel(net)\n",
        "tmrnet.to(\"cuda\")\n",
        "\n",
        "correct = eval(tmrnet, testloader)\n",
        "print(f\"Correctly predict {correct} of 10,000 (Acc: {correct/10000*100}%)\")"
      ]
    },
    {
      "cell_type": "code",
      "execution_count": 44,
      "metadata": {},
      "outputs": [],
      "source": [
        "# break a layer\n",
        "with torch.no_grad():\n",
        "    tmrnet.model.conv1.weight.copy_(torch.randn_like(net.conv1.weight))"
      ]
    },
    {
      "cell_type": "code",
      "execution_count": 45,
      "metadata": {},
      "outputs": [
        {
          "name": "stdout",
          "output_type": "stream",
          "text": [
            "Correctly predict 2634 of 10,000 (Acc: 26.340000000000003%)\n"
          ]
        }
      ],
      "source": [
        "# prediction using the broken model\n",
        "correct = eval(tmrnet, testloader)\n",
        "print(f\"Correctly predict {correct} of 10,000 (Acc: {correct/10000*100}%)\")"
      ]
    },
    {
      "cell_type": "code",
      "execution_count": 46,
      "metadata": {},
      "outputs": [
        {
          "name": "stdout",
          "output_type": "stream",
          "text": [
            "Correctly predict 9172 of 10,000 (Acc: 91.72%)\n"
          ]
        }
      ],
      "source": [
        "tmrnet.protected = True # turn on protection\n",
        "correct = eval(tmrnet, testloader)\n",
        "print(f\"Correctly predict {correct} of 10,000 (Acc: {correct/10000*100}%)\")"
      ]
    },
    {
      "cell_type": "code",
      "execution_count": null,
      "metadata": {},
      "outputs": [],
      "source": []
    }
  ],
  "metadata": {
    "accelerator": "GPU",
    "colab": {
      "gpuType": "T4",
      "provenance": []
    },
    "kernelspec": {
      "display_name": "Python 3",
      "name": "python3"
    },
    "language_info": {
      "codemirror_mode": {
        "name": "ipython",
        "version": 3
      },
      "file_extension": ".py",
      "mimetype": "text/x-python",
      "name": "python",
      "nbconvert_exporter": "python",
      "pygments_lexer": "ipython3",
      "version": "3.9.16"
    }
  },
  "nbformat": 4,
  "nbformat_minor": 0
}
